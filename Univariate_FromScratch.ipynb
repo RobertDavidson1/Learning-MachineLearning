{
 "cells": [
  {
   "cell_type": "markdown",
   "metadata": {},
   "source": [
    "### Importing Libraries"
   ]
  },
  {
   "cell_type": "code",
   "execution_count": 226,
   "metadata": {},
   "outputs": [],
   "source": [
    "import matplotlib.pyplot as plt\n",
    "import numpy as np\n",
    "import pandas as pd"
   ]
  },
  {
   "cell_type": "markdown",
   "metadata": {},
   "source": [
    "### Creating our data $\\left( y = \\frac{1}{3} + \\frac{2}{3}X  \\right)$"
   ]
  },
  {
   "cell_type": "code",
   "execution_count": 227,
   "metadata": {},
   "outputs": [
    {
     "name": "stdout",
     "output_type": "stream",
     "text": [
      "First 3 entries of X: \n",
      "[[0]\n",
      " [1]\n",
      " [2]]\n",
      "\n",
      " First 3 entries of y: \n",
      "[[-4.30085075]\n",
      " [ 3.11214731]\n",
      " [ 2.29273038]]\n"
     ]
    }
   ],
   "source": [
    "# Create X as an array of range 0-300, step 1\n",
    "X = np.arange(0,301,1).reshape(-1,1)\n",
    "\n",
    "# Calculate the true y values based on the given formula\n",
    "y = 1/3 + ((2/3) * X)\n",
    "\n",
    "# Generate Gaussian (normal) noise\n",
    "noise = np.random.normal(loc=0, scale=4, size=y.shape)\n",
    "\n",
    "# Add noise to the true_y to get noisy true y values\n",
    "y = y + noise\n",
    "\n",
    "print(f\"First 3 entries of X: \\n{X[0:3]}\\n\\n First 3 entries of y: \\n{y[0:3]}\")"
   ]
  },
  {
   "cell_type": "code",
   "execution_count": null,
   "metadata": {},
   "outputs": [],
   "source": []
  },
  {
   "cell_type": "markdown",
   "metadata": {},
   "source": [
    "### Feature Scaling using Standarization (Improve Calculation Time)"
   ]
  },
  {
   "cell_type": "code",
   "execution_count": 228,
   "metadata": {},
   "outputs": [
    {
     "data": {
      "text/plain": [
       "array([[-1.72630601],\n",
       "       [-1.71479731],\n",
       "       [-1.7032886 ]])"
      ]
     },
     "execution_count": 228,
     "metadata": {},
     "output_type": "execute_result"
    }
   ],
   "source": [
    "\n",
    "mu = np.mean(X)    # Compute the mean of X\n",
    "sig = np.std(X)    # Compute the standard deviation of X\n",
    "X = (X - mu) / sig   # Perform the standardization\n",
    "\n",
    "\n",
    "X[0:3]"
   ]
  },
  {
   "cell_type": "markdown",
   "metadata": {},
   "source": [
    "### Add a column of ones to our X vector, creating the Design Matrix"
   ]
  },
  {
   "cell_type": "code",
   "execution_count": 229,
   "metadata": {},
   "outputs": [
    {
     "data": {
      "text/plain": [
       "array([[ 1.        , -1.72630601],\n",
       "       [ 1.        , -1.71479731],\n",
       "       [ 1.        , -1.7032886 ]])"
      ]
     },
     "execution_count": 229,
     "metadata": {},
     "output_type": "execute_result"
    }
   ],
   "source": [
    "# Create a column of ones that matches the number of rows in X\n",
    "ones = np.ones((np.shape(X)[0], 1))\n",
    "\n",
    "# Concatenate the column of ones to the front of matrix X\n",
    "X = np.c_[ones, X]\n",
    "\n",
    "X[0:3]"
   ]
  },
  {
   "cell_type": "markdown",
   "metadata": {},
   "source": [
    "### Iniatlise random weights vector"
   ]
  },
  {
   "cell_type": "markdown",
   "metadata": {},
   "source": [
    "Where:\n",
    "- first entry = bias (Intercept)\n",
    "- second entry = weight (X coeffecient)"
   ]
  },
  {
   "cell_type": "code",
   "execution_count": 230,
   "metadata": {},
   "outputs": [
    {
     "data": {
      "text/plain": [
       "array([[0.80517947],\n",
       "       [0.89666075]])"
      ]
     },
     "execution_count": 230,
     "metadata": {},
     "output_type": "execute_result"
    }
   ],
   "source": [
    "weights = np.random.rand(X.shape[1]).reshape(-1,1)\n",
    "\n",
    "weights"
   ]
  },
  {
   "cell_type": "markdown",
   "metadata": {},
   "source": [
    "### Create our hypothesis function"
   ]
  },
  {
   "cell_type": "code",
   "execution_count": 231,
   "metadata": {},
   "outputs": [
    {
     "data": {
      "text/plain": [
       "array([[-0.74273138],\n",
       "       [-0.73241197],\n",
       "       [-0.72209257]])"
      ]
     },
     "execution_count": 231,
     "metadata": {},
     "output_type": "execute_result"
    }
   ],
   "source": [
    "def hypothesis(X, weights):\n",
    "    return X @ weights\n",
    "\n",
    "hypothesis(X, weights)[:3]"
   ]
  },
  {
   "cell_type": "markdown",
   "metadata": {},
   "source": [
    "### Create our Cost function (Measure Model Performance)"
   ]
  },
  {
   "cell_type": "code",
   "execution_count": 232,
   "metadata": {},
   "outputs": [],
   "source": [
    "# Cost function (MSE)\n",
    "def cost_function(predicted_y, y):\n",
    "\n",
    "    cost = np.mean((predicted_y - y) ** 2)\n",
    "    return cost\n"
   ]
  },
  {
   "cell_type": "markdown",
   "metadata": {},
   "source": [
    "### Create our Gradient Descent function"
   ]
  },
  {
   "cell_type": "markdown",
   "metadata": {},
   "source": [
    "Gradient descent algorithm is given by: $\\large \\vec{w} =: \\vec{w} - \\alpha \\cdot \\nabla J(\\vec{w})$"
   ]
  },
  {
   "cell_type": "markdown",
   "metadata": {},
   "source": [
    "Where our gradient $(\\nabla J)$ is given by:  $\\large \\quad \\nabla J(\\vec{w}) = \\frac{1}{m} X^T(X\\vec{w}-y)$"
   ]
  },
  {
   "cell_type": "code",
   "execution_count": 233,
   "metadata": {},
   "outputs": [
    {
     "name": "stdout",
     "output_type": "stream",
     "text": [
      "Epoch 1000: Cost 7213.210752663953\n",
      "Epoch 2000: Cost 3964.9520913286096\n",
      "Epoch 3000: Cost 2182.430407211074\n",
      "Epoch 4000: Cost 1204.249823204558\n",
      "Epoch 5000: Cost 667.4612593105733\n",
      "Epoch 6000: Cost 372.89196705662357\n",
      "Epoch 7000: Cost 211.2434637622556\n",
      "Epoch 8000: Cost 122.53686974707684\n",
      "Epoch 9000: Cost 73.85804092152401\n",
      "Epoch 10000: Cost 47.14493799907296\n",
      "Epoch 11000: Cost 32.48579592516065\n",
      "Epoch 12000: Cost 24.441412351790238\n",
      "Epoch 13000: Cost 20.026958439736973\n",
      "Epoch 14000: Cost 17.604472842935756\n",
      "Epoch 15000: Cost 16.275104231635186\n",
      "Epoch 16000: Cost 15.545596940841387\n",
      "Epoch 17000: Cost 15.14527088921284\n",
      "Epoch 18000: Cost 14.925587070236425\n",
      "Epoch 19000: Cost 14.805032886656134\n",
      "Epoch 20000: Cost 14.738877303388982\n",
      "Epoch 21000: Cost 14.702573617631797\n",
      "Epoch 22000: Cost 14.68265152588275\n",
      "Epoch 23000: Cost 14.671719034280962\n",
      "Epoch 24000: Cost 14.665719695751193\n",
      "Epoch 25000: Cost 14.662427485328736\n",
      "Epoch 26000: Cost 14.660620844577926\n",
      "Epoch 27000: Cost 14.659629428360955\n",
      "Epoch 28000: Cost 14.659085376581539\n",
      "Epoch 29000: Cost 14.658786821510894\n",
      "Epoch 30000: Cost 14.658622985762946\n",
      "Epoch 31000: Cost 14.658533078891656\n",
      "Epoch 32000: Cost 14.658483741395994\n",
      "Epoch 33000: Cost 14.658456666841587\n",
      "Epoch 34000: Cost 14.658441809348592\n",
      "Epoch 35000: Cost 14.658433656117518\n",
      "Epoch 36000: Cost 14.658429181932208\n",
      "Epoch 37000: Cost 14.658426726668282\n",
      "Epoch 38000: Cost 14.658425379312156\n",
      "Epoch 39000: Cost 14.658424639934\n",
      "Epoch 40000: Cost 14.658424234191186\n",
      "Epoch 41000: Cost 14.65842401153486\n",
      "Epoch 42000: Cost 14.658423889349468\n",
      "Epoch 43000: Cost 14.658423822298746\n",
      "Epoch 44000: Cost 14.658423785503839\n",
      "Epoch 45000: Cost 14.658423765312186\n",
      "Epoch 46000: Cost 14.658423754231766\n",
      "Epoch 47000: Cost 14.658423748151254\n",
      "Epoch 48000: Cost 14.658423744814499\n",
      "Epoch 49000: Cost 14.658423742983407\n",
      "------------------------------------------------------------\n",
      "\n",
      "Convergence reached at Epoch: 49473\n"
     ]
    }
   ],
   "source": [
    "def gradient_descent(X,y, weights, learning_rate= 0.0003, stopping_threshold= 1E-12):\n",
    "\n",
    "    # Variable to track current epoch \n",
    "    epoch = 0\n",
    "\n",
    "    # Track Cost's history for Convergence Monitoring\n",
    "    cost_history = []\n",
    "    \n",
    "    # Intialise previous cost as infinity\n",
    "    prev_cost = float('inf')\n",
    "\n",
    "    # Number of training examples\n",
    "    m = len(y)\n",
    "\n",
    "    # Loop until cost convergence\n",
    "    while True:\n",
    "\n",
    "        # Calculate predicted y values\n",
    "        predicted_y = hypothesis(X, weights)\n",
    "\n",
    "        # Error in predicted y values vs true y values\n",
    "        error = predicted_y - y\n",
    "        \n",
    "        # Calculate cost with current weights\n",
    "        cost = cost_function(predicted_y, y)\n",
    "\n",
    "        # Calculate Gradient\n",
    "        gradient = (X.T  @ error) / m\n",
    "\n",
    "        # Update Weights\n",
    "        weights = weights - learning_rate * gradient\n",
    "        \n",
    "        # If change in cost from one epoch to another is less than our stopping threshold declare convergence.\n",
    "        if np.abs(cost - prev_cost) < stopping_threshold:\n",
    "            print(\"-\" * 60 + \"\\n\")\n",
    "            print(f\"Convergence reached at Epoch: {epoch}\")\n",
    "            break\n",
    "        \n",
    "        # Else, update our previous cost and add to our cost history\n",
    "        prev_cost = cost\n",
    "        cost_history.append(cost)\n",
    "\n",
    "        \n",
    "\n",
    "        # Printing Epoch and Cost\n",
    "        if epoch % 1000 == 0 and epoch != 0:\n",
    "            prev_cost = cost\n",
    "            print(f\"Epoch {epoch}: Cost {cost}\")\n",
    "        \n",
    "        epoch +=1\n",
    "\n",
    "    return  epoch, weights, cost_history\n",
    "\n",
    "\n",
    "epoch, weights, cost_history = gradient_descent(X,y, weights)\n",
    "\n"
   ]
  },
  {
   "cell_type": "markdown",
   "metadata": {},
   "source": [
    "### Plot Cost vs Epochs"
   ]
  },
  {
   "cell_type": "code",
   "execution_count": 234,
   "metadata": {},
   "outputs": [
    {
     "data": {
      "text/plain": [
       "Text(0, 0.5, 'Cost')"
      ]
     },
     "execution_count": 234,
     "metadata": {},
     "output_type": "execute_result"
    },
    {
     "data": {
      "image/png": "[encoded data removed]",
      "text/plain": [
       "<Figure size 700x1000 with 1 Axes>"
      ]
     },
     "metadata": {},
     "output_type": "display_data"
    }
   ],
   "source": [
    "\n",
    "\n",
    "plt.figure(figsize=(7,10))\n",
    "plt.plot(np.arange(epoch)[:10000], cost_history[:10000])\n",
    "plt.xlabel(\"Epochs\")\n",
    "plt.ylabel(\"Cost\")\n",
    "\n",
    "\n",
    "# ax2.plot(np.arange(epoch), cost_history)\n",
    "# ax2.set_xlabel(\"Epochs\")\n",
    "# ax2.set_ylabel(\"Cost (Log)\")\n",
    "# ax2.set_yscale('log')"
   ]
  },
  {
   "cell_type": "markdown",
   "metadata": {},
   "source": [
    "### Destandardise weights $\\scriptsize (\\beta + \\omega)$"
   ]
  },
  {
   "cell_type": "code",
   "execution_count": 235,
   "metadata": {},
   "outputs": [
    {
     "data": {
      "text/plain": [
       "array([[0.77615658],\n",
       "       [0.66342875]])"
      ]
     },
     "execution_count": 235,
     "metadata": {},
     "output_type": "execute_result"
    }
   ],
   "source": [
    "weights_0_prime = weights[0] - (weights[1] * mu) / sig\n",
    "weights_1_prime = weights[1] / sig\n",
    "\n",
    "weights = np.array([weights_0_prime, weights_1_prime])\n",
    "weights"
   ]
  },
  {
   "cell_type": "code",
   "execution_count": 236,
   "metadata": {},
   "outputs": [
    {
     "data": {
      "text/plain": [
       "[<matplotlib.lines.Line2D at 0x23fd81897d0>]"
      ]
     },
     "execution_count": 236,
     "metadata": {},
     "output_type": "execute_result"
    },
    {
     "data": {
      "image/png": "[encoded data removed]",
      "text/plain": [
       "<Figure size 640x480 with 1 Axes>"
      ]
     },
     "metadata": {},
     "output_type": "display_data"
    }
   ],
   "source": [
    "X_b = np.arange(0,301,1).reshape(-1, 1)  # Ensuring true_X is a 2D array\n",
    "ones = np.ones((X_b.shape[0], 1))\n",
    "X_b = np.hstack((ones, X_b))  # Now true_X and ones have compatible dimensions\n",
    "true_y = 1/3 + ((2/3) * X_b)\n",
    "\n",
    "X_values = np.arange(0,301,1)\n",
    "true_y = 1/3 + ((2/3) * X_values)\n",
    "\n",
    "pred_y = hypothesis(X_b, weights)\n",
    "\n",
    "\n",
    "pred_y.shape\n",
    "\n",
    "plt.scatter(X_values, y, alpha=0.3)\n",
    "plt.plot(X_values, pred_y, c= 'red')\n",
    "\n",
    "\n"
   ]
  },
  {
   "cell_type": "markdown",
   "metadata": {},
   "source": [
    "### True Answers"
   ]
  },
  {
   "cell_type": "code",
   "execution_count": 237,
   "metadata": {},
   "outputs": [
    {
     "data": {
      "text/plain": [
       "array([[0.77615712],\n",
       "       [0.66342898]])"
      ]
     },
     "execution_count": 237,
     "metadata": {},
     "output_type": "execute_result"
    }
   ],
   "source": [
    "X[:,1] = (X[:,1] * sig) + mu # Destandardise Second Column\n",
    "weights = np.linalg.pinv(X.T @ X) @ X.T @ y # Use normal equation to calculate weights\n",
    "weights"
   ]
  }
 ],
 "metadata": {
  "kernelspec": {
   "display_name": "Python 3",
   "language": "python",
   "name": "python3"
  },
  "language_info": {
   "codemirror_mode": {
    "name": "ipython",
    "version": 3
   },
   "file_extension": ".py",
   "mimetype": "text/x-python",
   "name": "python",
   "nbconvert_exporter": "python",
   "pygments_lexer": "ipython3",
   "version": "3.11.2"
  }
 },
 "nbformat": 4,
 "nbformat_minor": 2
}
