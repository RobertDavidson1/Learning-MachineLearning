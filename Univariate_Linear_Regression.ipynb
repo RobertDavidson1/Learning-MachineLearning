{
 "cells": [
  {
   "cell_type": "markdown",
   "metadata": {},
   "source": [
    "### Importing Libraries"
   ]
  },
  {
   "cell_type": "code",
   "execution_count": null,
   "metadata": {},
   "outputs": [],
   "source": [
    "import matplotlib.pyplot as plt\n",
    "import numpy as np"
   ]
  },
  {
   "cell_type": "markdown",
   "metadata": {},
   "source": [
    "### Creating our data $\\left(\\footnotesize y = \\frac{1}{3} + \\frac{2}{3}X  \\right)$"
   ]
  },
  {
   "cell_type": "code",
   "execution_count": 2,
   "metadata": {},
   "outputs": [
    {
     "name": "stdout",
     "output_type": "stream",
     "text": [
      "First 3 entries of X: \n",
      "[[0]\n",
      " [1]\n",
      " [2]]\n",
      "\n",
      " First 3 entries of y: \n",
      "[[0.33333333]\n",
      " [1.        ]\n",
      " [1.66666667]]\n"
     ]
    }
   ],
   "source": [
    "# Create X as an array of range 0-300, step 1\n",
    "X = np.arange(0,301,1).reshape(-1,1)\n",
    "\n",
    "\n",
    "y = 1/3 + ((2/3)* X) \n",
    "\n",
    "print(f\"First 3 entries of X: \\n{X[0:3]}\\n\\n First 3 entries of y: \\n{y[0:3]}\")"
   ]
  },
  {
   "cell_type": "markdown",
   "metadata": {},
   "source": [
    "### Feature Scaling using Standarization (Improve Calculation Time)"
   ]
  },
  {
   "cell_type": "code",
   "execution_count": 3,
   "metadata": {},
   "outputs": [
    {
     "data": {
      "text/plain": [
       "array([[-1.72630601],\n",
       "       [-1.71479731],\n",
       "       [-1.7032886 ]])"
      ]
     },
     "execution_count": 3,
     "metadata": {},
     "output_type": "execute_result"
    }
   ],
   "source": [
    "\n",
    "mu = np.mean(X)    # Compute the mean of X\n",
    "sig = np.std(X)    # Compute the standard deviation of X\n",
    "X = (X - mu) / sig   # Perform the standardization\n",
    "\n",
    "\n",
    "X[0:3]"
   ]
  },
  {
   "cell_type": "markdown",
   "metadata": {},
   "source": [
    "### Add a column of ones to our X vector, creating the Design Matrix"
   ]
  },
  {
   "cell_type": "code",
   "execution_count": 4,
   "metadata": {},
   "outputs": [
    {
     "data": {
      "text/plain": [
       "array([[ 1.        , -1.72630601],\n",
       "       [ 1.        , -1.71479731],\n",
       "       [ 1.        , -1.7032886 ]])"
      ]
     },
     "execution_count": 4,
     "metadata": {},
     "output_type": "execute_result"
    }
   ],
   "source": [
    "# Create a column of ones that matches the number of rows in X\n",
    "ones = np.ones((np.shape(X)[0], 1))\n",
    "\n",
    "# Concatenate the column of ones to the front of matrix X\n",
    "X = np.c_[ones, X]\n",
    "\n",
    "X[0:3]"
   ]
  },
  {
   "cell_type": "markdown",
   "metadata": {},
   "source": [
    "### Iniatlise random weights vector"
   ]
  },
  {
   "cell_type": "markdown",
   "metadata": {},
   "source": [
    "Where:\n",
    "- first entry = bias (Intercept)\n",
    "- second entry = weight (X coeffecient)"
   ]
  },
  {
   "cell_type": "code",
   "execution_count": 5,
   "metadata": {},
   "outputs": [
    {
     "data": {
      "text/plain": [
       "array([[0.61037422],\n",
       "       [0.8471665 ]])"
      ]
     },
     "execution_count": 5,
     "metadata": {},
     "output_type": "execute_result"
    }
   ],
   "source": [
    "weights = np.random.rand(X.shape[1]).reshape(-1,1)\n",
    "\n",
    "weights"
   ]
  },
  {
   "cell_type": "markdown",
   "metadata": {},
   "source": [
    "### Create our hypothesis function"
   ]
  },
  {
   "cell_type": "code",
   "execution_count": 6,
   "metadata": {},
   "outputs": [
    {
     "data": {
      "text/plain": [
       "array([[-0.8520944 ],\n",
       "       [-0.8423446 ],\n",
       "       [-0.83259481]])"
      ]
     },
     "execution_count": 6,
     "metadata": {},
     "output_type": "execute_result"
    }
   ],
   "source": [
    "def hypothesis(X, weights):\n",
    "    return X @ weights\n",
    "\n",
    "hypothesis(X, weights)[:3]"
   ]
  },
  {
   "cell_type": "markdown",
   "metadata": {},
   "source": [
    "### Create our Cost function (Measure Model Performance)"
   ]
  },
  {
   "cell_type": "code",
   "execution_count": 7,
   "metadata": {},
   "outputs": [],
   "source": [
    "# Cost function (MSE)\n",
    "def cost_function(predicted_y, y):\n",
    "\n",
    "    cost = np.mean((predicted_y - y) ** 2)\n",
    "    return cost\n"
   ]
  },
  {
   "cell_type": "markdown",
   "metadata": {},
   "source": [
    "### Create our Gradient Descent function"
   ]
  },
  {
   "cell_type": "markdown",
   "metadata": {},
   "source": [
    "Gradient descent algorithm is given by: $\\large \\vec{w} =: \\vec{w} - \\alpha \\cdot \\nabla J(\\vec{w})$"
   ]
  },
  {
   "cell_type": "markdown",
   "metadata": {},
   "source": [
    "Where our gradient $(\\nabla J)$ is given by:  $\\large \\quad \\nabla J(\\vec{w}) = \\frac{1}{m} X^T(X\\vec{w}-y)$"
   ]
  },
  {
   "cell_type": "code",
   "execution_count": 8,
   "metadata": {},
   "outputs": [
    {
     "name": "stdout",
     "output_type": "stream",
     "text": [
      "Epoch 1000: Cost 7245.19470897548\n",
      "Epoch 2000: Cost 3975.8892443292425\n",
      "Epoch 3000: Cost 2181.8178693790037\n",
      "Epoch 4000: Cost 1197.2992512130731\n",
      "Epoch 5000: Cost 657.0326135258106\n",
      "Epoch 6000: Cost 360.5546857222031\n",
      "Epoch 7000: Cost 197.8587953170585\n",
      "Epoch 8000: Cost 108.57743480965367\n",
      "Epoch 9000: Cost 59.5831958389978\n",
      "Epoch 10000: Cost 32.69700774025429\n",
      "Epoch 11000: Cost 17.942883058088405\n",
      "Epoch 12000: Cost 9.846376616287639\n",
      "Epoch 13000: Cost 5.403319642441423\n",
      "Epoch 14000: Cost 2.96513776551019\n",
      "Epoch 15000: Cost 1.6271556284393134\n",
      "Epoch 16000: Cost 0.8929215599890482\n",
      "Epoch 17000: Cost 0.49000163128710744\n",
      "Epoch 18000: Cost 0.26889439052957503\n",
      "Epoch 19000: Cost 0.14755908683074334\n",
      "Epoch 20000: Cost 0.08097485434130715\n",
      "Epoch 21000: Cost 0.04443594207875299\n",
      "Epoch 22000: Cost 0.02438476690673587\n",
      "Epoch 23000: Cost 0.013381439197182349\n",
      "Epoch 24000: Cost 0.007343228486589925\n",
      "Epoch 25000: Cost 0.004029686479285007\n",
      "Epoch 26000: Cost 0.0022113397602945496\n",
      "Epoch 27000: Cost 0.0012134997500604992\n",
      "Epoch 28000: Cost 0.00066592283548422\n",
      "Epoch 29000: Cost 0.0003654333037997698\n",
      "Epoch 30000: Cost 0.00020053599667828106\n",
      "Epoch 31000: Cost 0.00011004658181434156\n",
      "Epoch 32000: Cost 6.03894082357415e-05\n",
      "Epoch 33000: Cost 3.3139426657906503e-05\n",
      "Epoch 34000: Cost 1.818566585150138e-05\n",
      "Epoch 35000: Cost 9.979606643548523e-06\n",
      "Epoch 36000: Cost 5.476431251013871e-06\n",
      "Epoch 37000: Cost 3.0052586545534602e-06\n",
      "Epoch 38000: Cost 1.6491724571917765e-06\n",
      "Epoch 39000: Cost 9.050035640279769e-07\n",
      "Epoch 40000: Cost 4.966317788684991e-07\n",
      "Epoch 41000: Cost 2.7253276510940187e-07\n",
      "Epoch 42000: Cost 1.4955568935653642e-07\n",
      "Epoch 43000: Cost 8.207051439535695e-08\n",
      "Epoch 44000: Cost 4.5037198924342463e-08\n",
      "Epoch 45000: Cost 2.471471400827761e-08\n",
      "Epoch 46000: Cost 1.3562501685301188e-08\n",
      "Epoch 47000: Cost 7.4425887411985796e-09\n",
      "Epoch 48000: Cost 4.084211641075458e-09\n",
      "Epoch 49000: Cost 2.2412610899630063e-09\n",
      "------------------------------------------------------------\n",
      "\n",
      "Convergence reached at Epoch: 49495\n"
     ]
    }
   ],
   "source": [
    "def gradient_descent(X,y, weights, learning_rate= 0.0003, stopping_threshold= 1E-12):\n",
    "\n",
    "    # Variable to track current epoch \n",
    "    epoch = 0\n",
    "\n",
    "    # Track Cost's history for Convergence Monitoring\n",
    "    cost_history = []\n",
    "    \n",
    "    # Intialise previous cost as infinity\n",
    "    prev_cost = float('inf')\n",
    "\n",
    "    # Number of training examples\n",
    "    m = len(y)\n",
    "\n",
    "    # Loop until cost convergence\n",
    "    while True:\n",
    "\n",
    "        # Calculate predicted y values\n",
    "        predicted_y = hypothesis(X, weights)\n",
    "\n",
    "        # Error in predicted y values vs true y values\n",
    "        error = predicted_y - y\n",
    "        \n",
    "        # Calculate cost with current weights\n",
    "        cost = cost_function(predicted_y, y)\n",
    "\n",
    "        # Calculate Gradient\n",
    "        gradient = (X.T  @ error) / m\n",
    "\n",
    "        # Update Weights\n",
    "        weights = weights - learning_rate * gradient\n",
    "        \n",
    "        # If change in cost from one epoch to another is less than our stopping threshold declare convergence.\n",
    "        if np.abs(cost - prev_cost) < stopping_threshold:\n",
    "            print(\"-\" * 60 + \"\\n\")\n",
    "            print(f\"Convergence reached at Epoch: {epoch}\")\n",
    "            break\n",
    "        \n",
    "        # Else, update our previous cost and add to our cost history\n",
    "        prev_cost = cost\n",
    "        cost_history.append(cost)\n",
    "\n",
    "        \n",
    "\n",
    "        # Printing Epoch and Cost\n",
    "        if epoch % 1000 == 0 and epoch != 0:\n",
    "            prev_cost = cost\n",
    "            print(f\"Epoch {epoch}: Cost {cost}\")\n",
    "        \n",
    "        epoch +=1\n",
    "\n",
    "    return  epoch, weights, cost_history\n",
    "\n",
    "\n",
    "epoch, weights, cost_history = gradient_descent(X,y, weights)\n",
    "\n"
   ]
  },
  {
   "cell_type": "markdown",
   "metadata": {},
   "source": [
    "### Plot Cost vs Epochs"
   ]
  },
  {
   "cell_type": "code",
   "execution_count": 9,
   "metadata": {},
   "outputs": [
    {
     "data": {
      "text/plain": [
       "Text(0, 0.5, 'Cost')"
      ]
     },
     "execution_count": 9,
     "metadata": {},
     "output_type": "execute_result"
    },
    {
     "data": {
      "image/png": "[encoded data removed]",
      "text/plain": [
       "<Figure size 700x1000 with 1 Axes>"
      ]
     },
     "metadata": {},
     "output_type": "display_data"
    }
   ],
   "source": [
    "\n",
    "\n",
    "plt.figure(figsize=(7,10))\n",
    "plt.plot(np.arange(epoch)[:10000], cost_history[:10000])\n",
    "plt.xlabel(\"Epochs\")\n",
    "plt.ylabel(\"Cost\")\n",
    "\n",
    "\n",
    "# ax2.plot(np.arange(epoch), cost_history)\n",
    "# ax2.set_xlabel(\"Epochs\")\n",
    "# ax2.set_ylabel(\"Cost (Log)\")\n",
    "# ax2.set_yscale('log')"
   ]
  },
  {
   "cell_type": "markdown",
   "metadata": {},
   "source": [
    "### Destandardise weights $\\scriptsize (\\beta + \\omega)$"
   ]
  },
  {
   "cell_type": "code",
   "execution_count": 10,
   "metadata": {},
   "outputs": [
    {
     "data": {
      "text/plain": [
       "array([[0.33333291],\n",
       "       [0.66666643]])"
      ]
     },
     "execution_count": 10,
     "metadata": {},
     "output_type": "execute_result"
    }
   ],
   "source": [
    "weights_0_prime = weights[0] - (weights[1] * mu) / sig\n",
    "weights_1_prime = weights[1] / sig\n",
    "\n",
    "weights = np.array([weights_0_prime, weights_1_prime])\n",
    "weights"
   ]
  },
  {
   "cell_type": "markdown",
   "metadata": {},
   "source": [
    "### True Answers"
   ]
  },
  {
   "cell_type": "code",
   "execution_count": 12,
   "metadata": {},
   "outputs": [
    {
     "data": {
      "text/plain": [
       "array([[0.33333333],\n",
       "       [0.66666667]])"
      ]
     },
     "execution_count": 12,
     "metadata": {},
     "output_type": "execute_result"
    }
   ],
   "source": [
    "X[:,1] = (X[:,1] * sig) + mu # Destandardise Second Column\n",
    "weights = np.linalg.pinv(X.T @ X) @ X.T @ y # Use normal equation to calculate weights\n",
    "weights"
   ]
  }
 ],
 "metadata": {
  "kernelspec": {
   "display_name": "Python 3",
   "language": "python",
   "name": "python3"
  },
  "language_info": {
   "codemirror_mode": {
    "name": "ipython",
    "version": 3
   },
   "file_extension": ".py",
   "mimetype": "text/x-python",
   "name": "python",
   "nbconvert_exporter": "python",
   "pygments_lexer": "ipython3",
   "version": "3.11.2"
  }
 },
 "nbformat": 4,
 "nbformat_minor": 2
}
